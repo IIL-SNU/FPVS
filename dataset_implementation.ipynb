{
 "cells": [
  {
   "cell_type": "code",
   "execution_count": null,
   "id": "f9580c18-ab90-45c4-8c08-d10a5a7466da",
   "metadata": {
    "tags": []
   },
   "outputs": [],
   "source": [
    "\n",
    "clear; clc;\n",
    "\n",
    "\n",
    "% baseDir='/home/jupyter-kcl724/data/data3/FPM_com/tissue NIR dataset/27.sto_S2F_15-71892_sec1(pair02)/R';\n",
    "% baseDir='/home/jupyter-kcl724/data/data3/FPM_com/tissue NIR dataset/28.sto_S2F_A3 18-37852_sec1(pair22)/R';\n",
    "% baseDir='/home/jupyter-kcl724/data/data3/FPM_com/tissue NIR dataset/29.sto_S2F_15-71892_sec3(pair18)/R';\n",
    "% baseDir='/home/jupyter-kcl724/data/data3/FPM_com/tissue NIR dataset/02.sto_S_15-71892_sec1/R';\n",
    "% baseDir='/home/kcl724/data/data3/FPM_com/tissue NIR dataset/32.sto_S2F(U)_A3 18-37852_sec1(pair22)/R';\n",
    "baseDir='/home/kcl724/data/data3/FPM_com/tissue NIR dataset/22.sto_S_A3 18-37852_sec1/R';\n",
    "\n",
    "\n",
    "dataset_preprocessing_v2()\n"
   ]
  },
  {
   "cell_type": "code",
   "execution_count": null,
   "id": "c20cf14b-ad2f-41fc-97a0-f723b812bf92",
   "metadata": {},
   "outputs": [],
   "source": [
    "disp(1)"
   ]
  },
  {
   "cell_type": "code",
   "execution_count": null,
   "id": "10440110-ca3a-4baf-986d-dafed98f6c38",
   "metadata": {},
   "outputs": [],
   "source": []
  }
 ],
 "metadata": {
  "kernelspec": {
   "display_name": "MATLAB Kernel",
   "language": "matlab",
   "name": "jupyter_matlab_kernel"
  },
  "language_info": {
   "file_extension": ".m",
   "mimetype": "text/x-matlab",
   "name": "matlab"
  }
 },
 "nbformat": 4,
 "nbformat_minor": 5
}
